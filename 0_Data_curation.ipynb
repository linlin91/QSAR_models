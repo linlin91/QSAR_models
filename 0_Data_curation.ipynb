{
 "cells": [
  {
   "cell_type": "markdown",
   "metadata": {},
   "source": [
    "# !!!This step is the most important one during QSAR modeling, please make sure you have double checked all the stucture information for all the compounds you are using."
   ]
  },
  {
   "cell_type": "markdown",
   "metadata": {},
   "source": [
    "# 1. Information of compounds -- get as much as you can"
   ]
  },
  {
   "cell_type": "markdown",
   "metadata": {},
   "source": [
    "#### There are many different ways to represent the compounds, such as the following example (Aspirin):\n",
    "1. Systematic name: 1,2-dihydroxybenzene\n",
    "2. Synonyms: AIBN\n",
    "3. Trade names: Aspirin\n",
    "4. CAS number (one compound could have multiple CAS numbers): 50-78-2\n",
    "5. InChI key: BSYNRYMUTXBXSQ-UHFFFAOYSA-N\n",
    "6. PubChem CID: 2244\n",
    "7. SMILES: CC(=O)OC1=CC=CC=C1C(=O)O\n",
    "8. sdf: (not shown here)\n",
    "9. xyz: (not shown here)"
   ]
  },
  {
   "cell_type": "markdown",
   "metadata": {},
   "source": [
    "#### When you develop QSAR model, you would like to make all the information in a clean format for all the compounds. So you could try to generate one representation for all the compounds, for example, get all the SMILES for all the compounds through different source information:"
   ]
  },
  {
   "cell_type": "markdown",
   "metadata": {},
   "source": [
    "#### A. From CAS to identifier (inchikey or smiles) through cactus ( https://cactus.nci.nih.gov/chemical/structure ) "
   ]
  },
  {
   "cell_type": "code",
   "execution_count": 1,
   "metadata": {},
   "outputs": [],
   "source": [
    "from urllib import request, error, parse\n",
    "from time import sleep\n",
    "import random\n",
    "\n",
    "def get_identifier_from_cas(cas, identifier):\n",
    "    url = 'https://cactus.nci.nih.gov/chemical/structure/' + parse.quote(cas) + '/' + str(identifier)\n",
    "    sleep(random.uniform(0, 0.5))\n",
    "    try:\n",
    "        response = request.urlopen(url)\n",
    "        stdinchikey = [line.strip().decode(\"utf-8\") for line in response]\n",
    "        if len(stdinchikey) > 6:\n",
    "            stdinchikey = None\n",
    "    except error.HTTPError as err:\n",
    "        stdinchikey = None\n",
    "    except error.URLError as err:\n",
    "        stdinchikey = None\n",
    "    except TimeoutError as err:\n",
    "        stdinchikey = None\n",
    "    if stdinchikey is not None and len(stdinchikey) == 1:\n",
    "        stdinchikey = ''.join(stdinchikey)\n",
    "    return stdinchikey\n",
    "\n",
    "\n",
    "cactus_smiles = get_identifier_from_cas('50-78-2', 'smiles')\n",
    "cactus_stdinchikey = get_identifier_from_cas('50-78-2', 'stdinchikey')"
   ]
  },
  {
   "cell_type": "markdown",
   "metadata": {},
   "source": [
    "#### B. From name/inchikey/pubchem CID to smiles/inchikey through PubChemPy ( https://pubchempy.readthedocs.io/en/latest/ ) "
   ]
  },
  {
   "cell_type": "code",
   "execution_count": 3,
   "metadata": {},
   "outputs": [
    {
     "data": {
      "text/plain": [
       "'CC(=O)OC1=CC=CC=C1C(=O)O'"
      ]
     },
     "execution_count": 3,
     "metadata": {},
     "output_type": "execute_result"
    }
   ],
   "source": [
    "import pubchempy as pcp\n",
    "c = pcp.get_compounds('Aspirin', 'name')\n",
    "c[0].isomeric_smiles\n",
    "c[0].inchikey"
   ]
  },
  {
   "cell_type": "code",
   "execution_count": 14,
   "metadata": {},
   "outputs": [
    {
     "data": {
      "text/plain": [
       "'CC(=O)OC1=CC=CC=C1C(=O)O'"
      ]
     },
     "execution_count": 14,
     "metadata": {},
     "output_type": "execute_result"
    }
   ],
   "source": [
    "c = pcp.get_compounds(\"BSYNRYMUTXBXSQ-UHFFFAOYSA-N\", 'inchikey')\n",
    "c[0].isomeric_smiles"
   ]
  },
  {
   "cell_type": "code",
   "execution_count": 15,
   "metadata": {},
   "outputs": [
    {
     "data": {
      "text/plain": [
       "'BSYNRYMUTXBXSQ-UHFFFAOYSA-N'"
      ]
     },
     "execution_count": 15,
     "metadata": {},
     "output_type": "execute_result"
    }
   ],
   "source": [
    "c = pcp.Compound.from_cid(int(2244))\n",
    "c.isomeric_smiles\n",
    "c.inchikey"
   ]
  },
  {
   "cell_type": "markdown",
   "metadata": {},
   "source": [
    "# 2. Clean structure information"
   ]
  },
  {
   "cell_type": "markdown",
   "metadata": {},
   "source": [
    "#### We use chemical structure standardizer tool such as Case Ultra and python scripts to remove \n",
    "1. duplicates;\n",
    "2. inorganics;\n",
    "3. mixtures."
   ]
  },
  {
   "cell_type": "markdown",
   "metadata": {},
   "source": [
    "#### Using python scripts to identify duplicates:"
   ]
  },
  {
   "cell_type": "code",
   "execution_count": 18,
   "metadata": {},
   "outputs": [
    {
     "name": "stdout",
     "output_type": "stream",
     "text": [
      "m and n are duplicates\n"
     ]
    }
   ],
   "source": [
    "from rdkit import Chem\n",
    "m = Chem.MolFromSmiles('CC(=O)OC1=CC=CC=C1C(=O)O')\n",
    "n = Chem.MolFromSmiles('OC(=O)C1=CC=CC=C1OC(=O)C')\n",
    "if (m is not None) and (n is not None):\n",
    "    if m.HasSubstructMatch(n) and n.HasSubstructMatch(m):\n",
    "        print(\"m and n are duplicates\")"
   ]
  },
  {
   "cell_type": "markdown",
   "metadata": {},
   "source": [
    "# 3. After clean the dataset..."
   ]
  },
  {
   "cell_type": "markdown",
   "metadata": {},
   "source": [
    "#### Make a .csv file (easy to handle), containing at least three columns (id, smiles, endpoint)"
   ]
  },
  {
   "cell_type": "markdown",
   "metadata": {},
   "source": [
    "1. csv file is preferred, it could be opened directly using excel, notepad or read through python.\n",
    "2. this file should contain id for all compounds, prefer numerical ids (easy to handle in pandas).\n",
    "3. structure information (such as smiles) also need to be included, for generating molecular descriptors.\n",
    "4. endpoint for compounds in training set is neccessary, the endpoint for test set compounds are not required."
   ]
  }
 ],
 "metadata": {
  "kernelspec": {
   "display_name": "Python 3",
   "language": "python",
   "name": "python3"
  },
  "language_info": {
   "codemirror_mode": {
    "name": "ipython",
    "version": 3
   },
   "file_extension": ".py",
   "mimetype": "text/x-python",
   "name": "python",
   "nbconvert_exporter": "python",
   "pygments_lexer": "ipython3",
   "version": "3.7.3"
  }
 },
 "nbformat": 4,
 "nbformat_minor": 2
}
