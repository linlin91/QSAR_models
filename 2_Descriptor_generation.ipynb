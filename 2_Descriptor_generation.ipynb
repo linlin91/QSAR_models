{
 "cells": [
  {
   "cell_type": "code",
   "execution_count": 21,
   "metadata": {},
   "outputs": [],
   "source": [
    "from rdkit import Chem\n",
    "from rdkit.ML.Descriptors import MoleculeDescriptors\n",
    "from rdkit.Chem import Descriptors\n",
    "from rdkit.Chem import AllChem\n",
    "from rdkit.Chem import MACCSkeys"
   ]
  },
  {
   "cell_type": "markdown",
   "metadata": {},
   "source": [
    "# A. Continuous descriptor"
   ]
  },
  {
   "cell_type": "markdown",
   "metadata": {},
   "source": [
    "### * MOE 2D descriptor"
   ]
  },
  {
   "cell_type": "markdown",
   "metadata": {},
   "source": [
    "The MOE 2D descriptors are generated from MOE software (https://www.chemcomp.com/index.htm), Rutgers has school license for this software."
   ]
  },
  {
   "cell_type": "markdown",
   "metadata": {},
   "source": [
    "### * Dragon 2D descriptor"
   ]
  },
  {
   "cell_type": "markdown",
   "metadata": {},
   "source": [
    "The Dragon 2D descriptors are generated from Dragon software(https://chm.kode-solutions.net/index.php)"
   ]
  },
  {
   "cell_type": "markdown",
   "metadata": {},
   "source": [
    "### * rdkit descriptor"
   ]
  },
  {
   "cell_type": "markdown",
   "metadata": {},
   "source": [
    "There are several continuous descriptors in rdkit, the details could be found in http://rdkit.org/docs/source/rdkit.Chem.Descriptors.html "
   ]
  },
  {
   "cell_type": "code",
   "execution_count": 1,
   "metadata": {},
   "outputs": [],
   "source": [
    "#load all compounds as molecule object in rdkit, and store them in list named as molecules\n",
    "\n",
    "from rdkit import Chem\n",
    "import pandas as pd\n",
    "import os\n",
    "currentDirectory = os.getcwd()\n",
    "d = os.path.join(currentDirectory, \"Datasets\", \"example.csv\")\n",
    "dataset = pd.read_csv(d, index_col = 0)\n",
    "molecules = [Chem.MolFromSmiles(mol) for mol in dataset.SMILES]"
   ]
  },
  {
   "cell_type": "code",
   "execution_count": 14,
   "metadata": {},
   "outputs": [],
   "source": [
    "calculator = MoleculeDescriptors.MolecularDescriptorCalculator([desc[0] for desc in Descriptors.descList])\n",
    "X = pd.DataFrame([list(calculator.CalcDescriptors(mol)) for mol in molecules],\n",
    "                     index=dataset.index,\n",
    "                     columns=list(calculator.GetDescriptorNames()))"
   ]
  },
  {
   "cell_type": "code",
   "execution_count": 15,
   "metadata": {},
   "outputs": [
    {
     "name": "stdout",
     "output_type": "stream",
     "text": [
      "0\n"
     ]
    }
   ],
   "source": [
    "print(X.isna().sum().sum())\n",
    "# X_ = X.fillna(X.mean())"
   ]
  },
  {
   "cell_type": "markdown",
   "metadata": {},
   "source": [
    "# B. Binary descriptor (fingerprint)"
   ]
  },
  {
   "cell_type": "markdown",
   "metadata": {},
   "source": [
    "### * MACCS keys"
   ]
  },
  {
   "cell_type": "markdown",
   "metadata": {},
   "source": [
    "MACCS keys could be generated using rdkit (http://rdkit.org/docs/source/rdkit.Chem.MACCSkeys.html)."
   ]
  },
  {
   "cell_type": "code",
   "execution_count": 16,
   "metadata": {},
   "outputs": [],
   "source": [
    "data = []\n",
    "\n",
    "for mol in molecules:\n",
    "    maccs = [int(x) for x in MACCSkeys.GenMACCSKeys(mol)]\n",
    "    data.append(maccs)\n",
    "\n",
    "X = pd.DataFrame(data, index=dataset.index)"
   ]
  },
  {
   "cell_type": "markdown",
   "metadata": {},
   "source": [
    "### * ECFP/FCFP fingerprints"
   ]
  },
  {
   "cell_type": "markdown",
   "metadata": {},
   "source": [
    "ECFP/FCFP fingerprints could be generated using rdkit Morgan/Circular module  (https://www.rdkit.org/docs/GettingStartedInPython.html)."
   ]
  },
  {
   "cell_type": "code",
   "execution_count": 19,
   "metadata": {},
   "outputs": [],
   "source": [
    "#ECFP4\n",
    "\n",
    "data = []\n",
    "\n",
    "for mol in molecules:\n",
    "    ecfp6 = [int(x) for x in AllChem.GetMorganFingerprintAsBitVect(mol, 2, 1024)]\n",
    "    data.append(ecfp6)\n",
    "\n",
    "X = pd.DataFrame(data, index=dataset.index)"
   ]
  },
  {
   "cell_type": "code",
   "execution_count": 17,
   "metadata": {},
   "outputs": [],
   "source": [
    "#ECFP6\n",
    "\n",
    "data = []\n",
    "\n",
    "for mol in molecules:\n",
    "    ecfp6 = [int(x) for x in AllChem.GetMorganFingerprintAsBitVect(mol, 3, 1024)]\n",
    "    data.append(ecfp6)\n",
    "\n",
    "X = pd.DataFrame(data, index=dataset.index)"
   ]
  },
  {
   "cell_type": "code",
   "execution_count": 18,
   "metadata": {},
   "outputs": [],
   "source": [
    "#FCFP6\n",
    "data = []\n",
    "\n",
    "for mol in molecules:\n",
    "    fcfp6 = [int(x) for x in AllChem.GetMorganFingerprintAsBitVect(mol, 3, 1024, useFeatures=True)]\n",
    "    data.append(fcfp6)\n",
    "\n",
    "X = pd.DataFrame(data, index=dataset.index)"
   ]
  },
  {
   "cell_type": "code",
   "execution_count": 20,
   "metadata": {},
   "outputs": [],
   "source": [
    "#FCFP4\n",
    "data = []\n",
    "\n",
    "for mol in molecules:\n",
    "    fcfp6 = [int(x) for x in AllChem.GetMorganFingerprintAsBitVect(mol, 2, 1024, useFeatures=True)]\n",
    "    data.append(fcfp6)\n",
    "\n",
    "X = pd.DataFrame(data, index=dataset.index)"
   ]
  },
  {
   "cell_type": "code",
   "execution_count": null,
   "metadata": {},
   "outputs": [],
   "source": []
  }
 ],
 "metadata": {
  "kernelspec": {
   "display_name": "Python 3",
   "language": "python",
   "name": "python3"
  },
  "language_info": {
   "codemirror_mode": {
    "name": "ipython",
    "version": 3
   },
   "file_extension": ".py",
   "mimetype": "text/x-python",
   "name": "python",
   "nbconvert_exporter": "python",
   "pygments_lexer": "ipython3",
   "version": "3.7.3"
  }
 },
 "nbformat": 4,
 "nbformat_minor": 2
}
